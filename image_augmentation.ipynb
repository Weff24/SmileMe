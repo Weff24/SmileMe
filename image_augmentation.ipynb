{
 "cells": [
  {
   "cell_type": "code",
   "execution_count": 1,
   "id": "bffb857e",
   "metadata": {},
   "outputs": [],
   "source": [
    "import os"
   ]
  },
  {
   "cell_type": "code",
   "execution_count": 2,
   "id": "81476c8a",
   "metadata": {},
   "outputs": [],
   "source": [
    "import cv2"
   ]
  },
  {
   "cell_type": "code",
   "execution_count": 55,
   "id": "dedde32d",
   "metadata": {},
   "outputs": [],
   "source": [
    "directory = 'images_cropped/train/surprise/'"
   ]
  },
  {
   "cell_type": "code",
   "execution_count": 56,
   "id": "fcd6237c",
   "metadata": {},
   "outputs": [],
   "source": [
    "for file in os.listdir(directory):      \n",
    "    if file == '.DS_Store':\n",
    "        continue\n",
    "    image = cv2.imread(directory + file)\n",
    "    #print(file)\n",
    "    flipped_image = cv2.flip(image, 1)\n",
    "    filename = 'flip_' + file\n",
    "    filename = 'images_cropped/train/surprise_flip/' + filename\n",
    "    cv2.imwrite(filename, flipped_image)\n",
    "    #print(i)"
   ]
  },
  {
   "cell_type": "code",
   "execution_count": 52,
   "id": "76eb766e",
   "metadata": {},
   "outputs": [],
   "source": [
    "i = 0"
   ]
  },
  {
   "cell_type": "code",
   "execution_count": null,
   "id": "44f4c30d",
   "metadata": {},
   "outputs": [],
   "source": []
  }
 ],
 "metadata": {
  "kernelspec": {
   "display_name": "Python 3 (ipykernel)",
   "language": "python",
   "name": "python3"
  },
  "language_info": {
   "codemirror_mode": {
    "name": "ipython",
    "version": 3
   },
   "file_extension": ".py",
   "mimetype": "text/x-python",
   "name": "python",
   "nbconvert_exporter": "python",
   "pygments_lexer": "ipython3",
   "version": "3.8.16"
  }
 },
 "nbformat": 4,
 "nbformat_minor": 5
}
