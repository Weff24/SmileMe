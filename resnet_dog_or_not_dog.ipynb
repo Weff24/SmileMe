{
  "cells": [
    {
      "cell_type": "code",
      "source": [
        "from google.colab import drive\n",
        "drive.mount('/content/drive')"
      ],
      "metadata": {
        "colab": {
          "base_uri": "https://localhost:8080/"
        },
        "id": "vCiIQcKoAduD",
        "outputId": "29ce4879-5ec3-4c8a-8bc2-0c86cb0525d8"
      },
      "execution_count": 1,
      "outputs": [
        {
          "output_type": "stream",
          "name": "stdout",
          "text": [
            "Mounted at /content/drive\n"
          ]
        }
      ]
    },
    {
      "cell_type": "code",
      "source": [
        "import zipfile\n",
        "import os\n",
        "\n",
        "zip_ref = zipfile.ZipFile('/content/drive/MyDrive/low-resolution.zip', 'r') #Opens the zip file in read mode\n",
        "zip_ref.extractall('/tmp') #Extracts the files into the /tmp folder\n",
        "zip_ref.close()"
      ],
      "metadata": {
        "id": "gwckOmApAePi"
      },
      "execution_count": 2,
      "outputs": []
    },
    {
      "cell_type": "code",
      "execution_count": 3,
      "metadata": {
        "id": "hVh6j7vG_Oxl"
      },
      "outputs": [],
      "source": [
        "import torch\n",
        "from torch.utils.data import DataLoader, random_split\n",
        "import torchvision\n",
        "from torchvision import datasets, transforms\n",
        "import numpy as np\n",
        "import matplotlib.pyplot as plt\n",
        "\n",
        "from sklearn.model_selection import train_test_split\n",
        "from sklearn.linear_model import LogisticRegression\n",
        "\n",
        "from torchvision import models\n",
        "from torch import nn\n",
        "import torch.optim as optim\n",
        "\n",
        "from sklearn.metrics import accuracy_score"
      ]
    },
    {
      "cell_type": "code",
      "source": [
        "device = torch.device('cuda' if torch.cuda.is_available() else 'cpu')"
      ],
      "metadata": {
        "id": "-j8p6hHgAtZK"
      },
      "execution_count": 4,
      "outputs": []
    },
    {
      "cell_type": "code",
      "execution_count": 12,
      "metadata": {
        "id": "hxd9IMJh_Oxn",
        "outputId": "ca475392-eec5-4903-c404-e4f5f61d8619",
        "colab": {
          "base_uri": "https://localhost:8080/"
        }
      },
      "outputs": [
        {
          "output_type": "stream",
          "name": "stdout",
          "text": [
            "Files already downloaded and verified\n"
          ]
        }
      ],
      "source": [
        "my_transform = transforms.Compose([\n",
        "    transforms.Resize((100, 100)),\n",
        "    transforms.ToTensor(),\n",
        "    # transforms.Grayscale(),\n",
        "    transforms.Normalize([0.485], [0.229])])\n",
        "\n",
        "dataset = datasets.CIFAR10(\"./data\", True, my_transform, download=True)\n",
        "\n",
        "labels = dataset.targets\n",
        "\n",
        "# split the dataset into train/validation/test sets with stratification\n",
        "train_idx, test_idx, train_labels, test_labels = train_test_split(\n",
        "    range(len(dataset)), labels, test_size=0.1, stratify=labels, random_state=0)\n",
        "\n",
        "\n",
        "# create the subsets from the dataset\n",
        "train_data = torch.utils.data.Subset(dataset, train_idx)\n",
        "test_data = torch.utils.data.Subset(dataset, test_idx)\n",
        "\n",
        "# create the data loaders\n",
        "train_loader = torch.utils.data.DataLoader(train_data, batch_size=32, shuffle=True)\n",
        "test_loader = torch.utils.data.DataLoader(test_data, batch_size=1)"
      ]
    },
    {
      "cell_type": "markdown",
      "source": [
        "### List of ImageNet and Stanford Dog Dataset Breeds to See if it Identifies a Dog"
      ],
      "metadata": {
        "id": "TPSS82gacmbv"
      }
    },
    {
      "cell_type": "code",
      "source": [
        "dog_breeds = [\"affenpinscher\",\n",
        "    \"afghan hound\",\n",
        "    \"african hunting dog\",\n",
        "    \"airedale\",\n",
        "    \"american staffordshire terrier\",\n",
        "    \"appenzeller\",\n",
        "    \"australian terrier\",\n",
        "    \"basenji\",\n",
        "    \"basset\",\n",
        "    \"beagle\",\n",
        "    \"bedlington terrier\",\n",
        "    \"bernese mountain dog\",\n",
        "    \"black-and-tan coonhound\",\n",
        "    \"blenheim spaniel\",\n",
        "    \"bloodhound\",\n",
        "    \"bluetick\",\n",
        "    \"border collie\",\n",
        "    \"border terrier\",\n",
        "    \"borzoi\",\n",
        "    \"boston bull\",\n",
        "    \"bouvier des flandres\",\n",
        "    \"boxer\",\n",
        "    \"brabancon griffon\",\n",
        "    \"briard\",\n",
        "    \"brittany spaniel\",\n",
        "    \"bull mastiff\",\n",
        "    \"cairn\",\n",
        "    \"cardigan\",\n",
        "    \"chesapeake bay retriever\",\n",
        "    \"chihuahua\",\n",
        "    \"chow\",\n",
        "    \"clumber\",\n",
        "    \"cocker spaniel\",\n",
        "    \"collie\",\n",
        "    \"curly-coated retriever\",\n",
        "    \"dandie dinmont\",\n",
        "    \"dhole\",\n",
        "    \"dingo\",\n",
        "    \"doberman\",\n",
        "    \"english foxhound\",\n",
        "    \"english setter\",\n",
        "    \"english springer\",\n",
        "    \"entlebucher\",\n",
        "    \"eskimo dog\",\n",
        "    \"flat-coated retriever\",\n",
        "    \"french bulldog\",\n",
        "    \"german shepherd\",\n",
        "    \"german short-haired pointer\",\n",
        "    \"giant schnauzer\",\n",
        "    \"golden retriever\",\n",
        "    \"gordon setter\",\n",
        "    \"great dane\",\n",
        "    \"great pyrenees\",\n",
        "    \"greater swiss mountain dog\",\n",
        "    \"groenendael\",\n",
        "    \"ibizan hound\",\n",
        "    \"irish setter\",\n",
        "    \"irish terrier\",\n",
        "    \"irish water spaniel\",\n",
        "    \"irish wolfhound\",\n",
        "    \"italian greyhound\",\n",
        "    \"japanese spaniel\",\n",
        "    \"keeshond\",\n",
        "    \"kelpie\",\n",
        "    \"kerry blue terrier\",\n",
        "    \"komondor\",\n",
        "    \"kuvasz\",\n",
        "    \"labrador retriever\",\n",
        "    \"lakeland terrier\",\n",
        "    \"leonberg\",\n",
        "    \"lhasa\",\n",
        "    \"malamute\",\n",
        "    \"malinois\",\n",
        "    \"maltese dog\",\n",
        "    \"mexican hairless\",\n",
        "    \"miniature pinscher\",\n",
        "    \"miniature poodle\",\n",
        "    \"miniature schnauzer\",\n",
        "    \"newfoundland\",\n",
        "    \"norfolk terrier\",\n",
        "    \"norwegian elkhound\",\n",
        "    \"norwich terrier\",\n",
        "    \"old english sheepdog\",\n",
        "    \"otterhound\",\n",
        "    \"papillon\",\n",
        "    \"pekinese\",\n",
        "    \"pembroke\",\n",
        "    \"pomeranian\",\n",
        "    \"pug\",\n",
        "    \"redbone\",\n",
        "    \"rhodesian ridgeback\",\n",
        "    \"rottweiler\",\n",
        "    \"saint bernard\",\n",
        "    \"saluki\",\n",
        "    \"samoyed\",\n",
        "    \"schipperke\",\n",
        "    \"scotch terrier\",\n",
        "    \"scottish deerhound\",\n",
        "    \"sealyham terrier\",\n",
        "    \"shetland sheepdog\",\n",
        "    \"shih-tzu\",\n",
        "    \"siberian husky\",\n",
        "    \"silky terrier\",\n",
        "    \"soft-coated wheaten terrier\",\n",
        "    \"staffordshire bullterrier\",\n",
        "    \"standard poodle\",\n",
        "    \"standard schnauzer\",\n",
        "    \"sussex spaniel\",\n",
        "    \"tibetan mastiff\",\n",
        "    \"tibetan terrier\",\n",
        "    \"toy poodle\",\n",
        "    \"toy terrier\",\n",
        "    \"vizsla\",\n",
        "    \"walker hound\",\n",
        "    \"weimaraner\",\n",
        "    \"welsh springer spaniel\",\n",
        "    \"west highland white terrier\",\n",
        "    \"whippet\",\n",
        "    \"wire-haired fox terrier\",\n",
        "    \"yorkshire terrier\"]"
      ],
      "metadata": {
        "id": "iAZWT5zBcmIf"
      },
      "execution_count": 6,
      "outputs": []
    },
    {
      "cell_type": "markdown",
      "source": [
        "### Test If Images Are Dogs"
      ],
      "metadata": {
        "id": "RRIOMsgu_nFZ"
      }
    },
    {
      "cell_type": "code",
      "source": [
        "resnet = torch.hub.load('pytorch/vision:v0.10.0', 'resnet50', pretrained=True)\n",
        "resnet = resnet.to(device)\n",
        "resnet.eval()\n",
        "\n",
        "weights = models.ResNet50_Weights.DEFAULT\n",
        "\n",
        "y_predictions = []\n",
        "y_true = []\n",
        "test_len = len(test_loader)\n",
        "\n",
        "for i, data in enumerate(test_loader):\n",
        "    inputs, labels = data\n",
        "    \n",
        "    inputs = inputs.to(device)\n",
        "    labels = labels.to(device)\n",
        "\n",
        "    log_probabilities = resnet(inputs).squeeze(0)\n",
        "    y_prediction = log_probabilities.argmax()\n",
        "    y_predictions.append(y_prediction.cpu())\n",
        "    prediction_name = weights.meta[\"categories\"][y_prediction]\n",
        "\n",
        "    # If image of dog and predicts a dog or if image is not a dog and predicts not a dog\n",
        "    if ((labels[0] == 5) and (prediction_name.lower() in dog_breeds)) or ((labels[0] != 5) and (prediction_name.lower() not in dog_breeds)):\n",
        "        y_true.append(y_prediction.cpu())\n",
        "    else:\n",
        "        y_true.append(torch.tensor(-1).cpu())\n",
        "\n",
        "\n",
        "    if i % 100 == 0:\n",
        "        print(f\"{i} / {test_len}\")"
      ],
      "metadata": {
        "colab": {
          "base_uri": "https://localhost:8080/"
        },
        "id": "7PcNL4OP_pG9",
        "outputId": "19565e64-bdce-4a03-fce0-a8d12ff8f3b7"
      },
      "execution_count": 22,
      "outputs": [
        {
          "output_type": "stream",
          "name": "stderr",
          "text": [
            "Using cache found in /root/.cache/torch/hub/pytorch_vision_v0.10.0\n",
            "/usr/local/lib/python3.9/dist-packages/torchvision/models/_utils.py:208: UserWarning: The parameter 'pretrained' is deprecated since 0.13 and may be removed in the future, please use 'weights' instead.\n",
            "  warnings.warn(\n",
            "/usr/local/lib/python3.9/dist-packages/torchvision/models/_utils.py:223: UserWarning: Arguments other than a weight enum or `None` for 'weights' are deprecated since 0.13 and may be removed in the future. The current behavior is equivalent to passing `weights=ResNet50_Weights.IMAGENET1K_V1`. You can also use `weights=ResNet50_Weights.DEFAULT` to get the most up-to-date weights.\n",
            "  warnings.warn(msg)\n"
          ]
        },
        {
          "output_type": "stream",
          "name": "stdout",
          "text": [
            "0 / 5000\n",
            "100 / 5000\n",
            "200 / 5000\n",
            "300 / 5000\n",
            "400 / 5000\n",
            "500 / 5000\n",
            "600 / 5000\n",
            "700 / 5000\n",
            "800 / 5000\n",
            "900 / 5000\n",
            "1000 / 5000\n",
            "1100 / 5000\n",
            "1200 / 5000\n",
            "1300 / 5000\n",
            "1400 / 5000\n",
            "1500 / 5000\n",
            "1600 / 5000\n",
            "1700 / 5000\n",
            "1800 / 5000\n",
            "1900 / 5000\n",
            "2000 / 5000\n",
            "2100 / 5000\n",
            "2200 / 5000\n",
            "2300 / 5000\n",
            "2400 / 5000\n",
            "2500 / 5000\n",
            "2600 / 5000\n",
            "2700 / 5000\n",
            "2800 / 5000\n",
            "2900 / 5000\n",
            "3000 / 5000\n",
            "3100 / 5000\n",
            "3200 / 5000\n",
            "3300 / 5000\n",
            "3400 / 5000\n",
            "3500 / 5000\n",
            "3600 / 5000\n",
            "3700 / 5000\n",
            "3800 / 5000\n",
            "3900 / 5000\n",
            "4000 / 5000\n",
            "4100 / 5000\n",
            "4200 / 5000\n",
            "4300 / 5000\n",
            "4400 / 5000\n",
            "4500 / 5000\n",
            "4600 / 5000\n",
            "4700 / 5000\n",
            "4800 / 5000\n",
            "4900 / 5000\n"
          ]
        }
      ]
    },
    {
      "cell_type": "code",
      "source": [
        "accuracy_score(y_true, y_predictions)"
      ],
      "metadata": {
        "id": "GdShFHqUqa8_",
        "outputId": "06f008e4-1e80-4272-9725-1deadff87f8b",
        "colab": {
          "base_uri": "https://localhost:8080/"
        }
      },
      "execution_count": 23,
      "outputs": [
        {
          "output_type": "execute_result",
          "data": {
            "text/plain": [
              "0.9064"
            ]
          },
          "metadata": {},
          "execution_count": 23
        }
      ]
    }
  ],
  "metadata": {
    "kernelspec": {
      "display_name": "cs449",
      "language": "python",
      "name": "python3"
    },
    "language_info": {
      "codemirror_mode": {
        "name": "ipython",
        "version": 3
      },
      "file_extension": ".py",
      "mimetype": "text/x-python",
      "name": "python",
      "nbconvert_exporter": "python",
      "pygments_lexer": "ipython3",
      "version": "3.10.9"
    },
    "vscode": {
      "interpreter": {
        "hash": "8e79e045764e501e596f6a691c14f66e39319162c1681e2197798f8768b6c030"
      }
    },
    "colab": {
      "provenance": []
    },
    "accelerator": "GPU",
    "gpuClass": "standard"
  },
  "nbformat": 4,
  "nbformat_minor": 0
}